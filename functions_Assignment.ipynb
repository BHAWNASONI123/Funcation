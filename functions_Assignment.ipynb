{
  "nbformat": 4,
  "nbformat_minor": 0,
  "metadata": {
    "colab": {
      "provenance": []
    },
    "kernelspec": {
      "name": "python3",
      "display_name": "Python 3"
    },
    "language_info": {
      "name": "python"
    }
  },
  "cells": [
    {
      "cell_type": "markdown",
      "source": [
        "# Theory Questions:\n"
      ],
      "metadata": {
        "id": "420XFaHIS6Y6"
      }
    },
    {
      "cell_type": "code",
      "source": [
        "#Q1. What is the difference between a function and a method in Python?\n",
        "# Function: Defined outside of any class or object and can be used independently.\n",
        "# Method: Defined inside a class and operates on data within that class.\n",
        "#(typically using self to reference the instance). You call methods on objects using dot notation, like object.method()."
      ],
      "metadata": {
        "id": "LVykQXfjTB11"
      },
      "execution_count": null,
      "outputs": []
    },
    {
      "cell_type": "code",
      "source": [
        "#Q2. Explain the concept of function arguments and parameters in Python.\n",
        "# Parameters: Defined in the function signature; act as placeholders.\n",
        "# Arguments: Actual values passed to the function when it's called.\n",
        "# Types of arguments: Positional, keyword, default, and variable-length arguments."
      ],
      "metadata": {
        "id": "3ptc8FrhUcZj"
      },
      "execution_count": null,
      "outputs": []
    },
    {
      "cell_type": "code",
      "source": [
        "# Q3. What are the different ways to define and call a function in Python?\n",
        "# Basic Function: Defined using def, called with the function name.\n",
        "\n",
        "# Multiple Parameters: Functions that take more than one argument.\n",
        "\n",
        "# Default Parameters: Functions with default values for parameters.\n",
        "\n",
        "# Variable-Length Arguments: Functions with *args (non-keyword) and **kwargs (keyword).\n",
        "\n",
        "# Lambda Functions: Anonymous, single-line functions defined with lambda.\n",
        "\n",
        "# Return Values: Functions that return values with return.\n",
        "\n",
        "# Keyword Arguments: Passing arguments by their name when calling the function.\n",
        "\n",
        "# Recursion: Functions calling themselves (recursive functions).\n",
        "\n",
        "# Passing Functions as Arguments: Higher-order functions that accept other functions.\n",
        "\n",
        "# Methods: Functions defined inside classes, called on objects."
      ],
      "metadata": {
        "id": "VO7u06UdVV5l"
      },
      "execution_count": null,
      "outputs": []
    },
    {
      "cell_type": "code",
      "source": [
        "#Q4. What is the purpose of the `return` statement in a Python function?\n",
        "#  Send back a result: It allows the function to produce an output that can be used later in the code.\n",
        "#  End the function: Once return is executed, the function stops running and no further code in the function is executed."
      ],
      "metadata": {
        "id": "1GmEi_1lXaXQ"
      },
      "execution_count": null,
      "outputs": []
    },
    {
      "cell_type": "code",
      "source": [
        "# Q5. What are iterators in Python and how do they differ from iterables?\n",
        "# Iterable An object that can be looped over (e.g., list, string).Must implement __iter__().\n",
        "# Iterator An object that knows how to iterate over an iterable (provides next()).Must implement both __iter__() and __next__().\n"
      ],
      "metadata": {
        "id": "__2v8KNHXx43"
      },
      "execution_count": null,
      "outputs": []
    },
    {
      "cell_type": "code",
      "source": [
        "# Q6. Explain the concept of generators in Python and how they are defined.\n",
        "# Generators are a type of iterator in Python that generate values lazily (one at a time).\n",
        "\n",
        "# They are defined using a function with the yield keyword instead of return.\n",
        "\n",
        "# Generators are memory-efficient because they don't store the entire sequence in memory, only producing values as needed.\n",
        "\n",
        "# Use next() to manually retrieve values from a generator or a for loop for automatic iteration.\n",
        "\n",
        "# Generators are particularly useful for working with large datasets or when you need to represent sequences that don't fit into memory all at once (like reading lines from a file).\n"
      ],
      "metadata": {
        "id": "KpcHa3KhcTgI"
      },
      "execution_count": null,
      "outputs": []
    },
    {
      "cell_type": "code",
      "source": [
        "# Q7. What are the advantages of using generators over regular functions?\n",
        "# Generators Only stores one value at a time in memory,Computes values lazily, on-demand,Very efficient for large or infinite data,State is automatically managed by the generator\n",
        "# Regular Functions\tStores entire sequences in memory (e.g., lists),Computes and returns all values at once\t,May not be efficient with large or infinite data\t,You need to manage the state manually\n"
      ],
      "metadata": {
        "id": "g6XyhZ5kcz5H"
      },
      "execution_count": null,
      "outputs": []
    },
    {
      "cell_type": "code",
      "source": [
        "# Q8. What is a lambda function in Python and when is it typically used?\n",
        "# A lambda function in Python is a small anonymous function that is defined using the lambda keyword.\n",
        "# Unlike regular functions that are defined using def.\n",
        "# lambda functions are used for short-lived operations that don't require a full function definition."
      ],
      "metadata": {
        "id": "dYbmoXGgeMtk"
      },
      "execution_count": null,
      "outputs": []
    },
    {
      "cell_type": "code",
      "source": [
        "# Q9.Explain the purpose and usage of the `map()` function in Python.\n",
        "# The map() function in Python is a built-in higher-order function that is used to apply a given function to all items in an iterable (such as a list, tuple, or string) and return an iterator (or map object) that produces the results."
      ],
      "metadata": {
        "id": "FazkkfdZeqnq"
      },
      "execution_count": null,
      "outputs": []
    },
    {
      "cell_type": "code",
      "source": [
        "#10.What is the difference between `map()`, `reduce()`, and `filter()` functions in Python?\n",
        "# map(): Transforms each element of the iterable.\n",
        "# reduce(): Reduces the iterable to a single value by applying a function cumulatively.\n",
        "# filter(): Filters elements in the iterable based on a condition."
      ],
      "metadata": {
        "id": "bevIRmeufBNq"
      },
      "execution_count": null,
      "outputs": []
    },
    {
      "cell_type": "code",
      "source": [
        "#Q11. Using pen & Paper write the internal mechanism for sum operation using  reduce function on this given list:[47,11,42,13];\n",
        "#Initial Values:\n",
        "#The reduce() function works by taking the first two items.\n",
        "#applying the binary function (in this case, addition).\n",
        "#then taking the result and applying the same function with the next item in the list.\n",
        "#This process repeats until all items in the iterable have been processed.\n",
        "#resulting in a single value (the sum, in this case). The final result is 113\n",
        "from functools import reduce\n",
        "\n",
        "numbers = [47, 11, 42, 13]\n",
        "result = reduce(lambda x, y: x + y, numbers)\n",
        "\n",
        "print(result)"
      ],
      "metadata": {
        "colab": {
          "base_uri": "https://localhost:8080/"
        },
        "id": "veeQ_t8If2rp",
        "outputId": "d4f7181c-749d-4990-f6d1-895dffc74837"
      },
      "execution_count": null,
      "outputs": [
        {
          "output_type": "stream",
          "name": "stdout",
          "text": [
            "113\n"
          ]
        }
      ]
    },
    {
      "cell_type": "markdown",
      "source": [
        "# Practical Questions:\n"
      ],
      "metadata": {
        "id": "OS3ssrGLhuxt"
      }
    },
    {
      "cell_type": "code",
      "source": [
        "#Q1. Write a Python function that takes a list of numbers as input and returns the sum of all even numbers in the list.\n",
        "def sum_of_even_numbers(numbers):\n",
        "    # Initialize the sum to 0\n",
        "    sum_even = 0\n",
        "\n",
        "    # Loop through each number in the list\n",
        "    for num in numbers:\n",
        "        # Check if the number is even\n",
        "        if num % 2 == 0:\n",
        "            # Add the even number to the sum\n",
        "            sum_even += num\n",
        "\n",
        "    # Return the sum of even numbers\n",
        "    return sum_even\n",
        "\n",
        "    numbers = [10, 15, 22, 33, 40]\n",
        "result = sum_of_even_numbers(numbers)\n",
        "print(\"Sum of even numbers:\", result)"
      ],
      "metadata": {
        "colab": {
          "base_uri": "https://localhost:8080/"
        },
        "id": "JksayFHuhyZU",
        "outputId": "1259117b-83e7-4b3d-89d1-43e1656e6d6b"
      },
      "execution_count": null,
      "outputs": [
        {
          "output_type": "stream",
          "name": "stdout",
          "text": [
            "Sum of even numbers: 42\n"
          ]
        }
      ]
    },
    {
      "cell_type": "code",
      "source": [
        "#Q2.Create a Python function that accepts a string and returns the reverse of that string.\n",
        "def reverse_string(input_string):\n",
        "    # Return the reversed version of the input string\n",
        "    return input_string[::-1]\n",
        "\n",
        "input_string = \"Hello, World!\"\n",
        "reversed_string = reverse_string(input_string)\n",
        "print(\"Reversed string:\", reversed_string)  # Output: \"!dlroW ,olleH\""
      ],
      "metadata": {
        "colab": {
          "base_uri": "https://localhost:8080/"
        },
        "id": "_QQEkjRJiWz_",
        "outputId": "963248a9-750f-42b1-85c3-6c7475ef46db"
      },
      "execution_count": null,
      "outputs": [
        {
          "output_type": "stream",
          "name": "stdout",
          "text": [
            "Reversed string: !dlroW ,olleH\n"
          ]
        }
      ]
    },
    {
      "cell_type": "code",
      "source": [
        "#Q3.  Implement a Python function that takes a list of integers and returns a new list containing the squares of each number.\n",
        "def square_numbers(input_list):\n",
        "    # Using list comprehension to square each number in the list\n",
        "    return [num ** 2 for num in input_list]\n",
        "\n",
        "# Example usage\n",
        "example_list = [1, 2, 3, 4, 5]\n",
        "squared_list = square_numbers(example_list)\n",
        "print(squared_list)  # Output: [1, 4, 9, 16, 25]"
      ],
      "metadata": {
        "colab": {
          "base_uri": "https://localhost:8080/"
        },
        "id": "88lSTPIVjrlM",
        "outputId": "a4127e54-d1ae-46ad-f2ce-eb75d18df60e"
      },
      "execution_count": 5,
      "outputs": [
        {
          "output_type": "stream",
          "name": "stdout",
          "text": [
            "[1, 4, 9, 16, 25]\n"
          ]
        }
      ]
    },
    {
      "cell_type": "code",
      "source": [
        "#Q4. Write a Python function that checks if a given number is prime or not from 1 to 200.\n",
        "def is_prime(num):\n",
        "    if num <= 1:  # Numbers less than or equal to 1 are not prime\n",
        "        return False\n",
        "    for i in range(2, int(num ** 0.5) + 1):  # Check divisors up to the square root of the number\n",
        "        if num % i == 0:\n",
        "            return False\n",
        "    return True\n",
        "\n",
        "# Checking for prime numbers in the range 1 to 200\n",
        "for number in range(1, 201):\n",
        "    if is_prime(number):\n",
        "        print(f\"{number} is a prime number.\")\n",
        "    else:\n",
        "        print(f\"{number} is not a prime number.\")\n",
        "\n"
      ],
      "metadata": {
        "colab": {
          "base_uri": "https://localhost:8080/"
        },
        "id": "WhwHMs5_xM1J",
        "outputId": "e4f68a06-5a4c-4df6-f38c-8d5b54e6b111"
      },
      "execution_count": 6,
      "outputs": [
        {
          "output_type": "stream",
          "name": "stdout",
          "text": [
            "1 is not a prime number.\n",
            "2 is a prime number.\n",
            "3 is a prime number.\n",
            "4 is not a prime number.\n",
            "5 is a prime number.\n",
            "6 is not a prime number.\n",
            "7 is a prime number.\n",
            "8 is not a prime number.\n",
            "9 is not a prime number.\n",
            "10 is not a prime number.\n",
            "11 is a prime number.\n",
            "12 is not a prime number.\n",
            "13 is a prime number.\n",
            "14 is not a prime number.\n",
            "15 is not a prime number.\n",
            "16 is not a prime number.\n",
            "17 is a prime number.\n",
            "18 is not a prime number.\n",
            "19 is a prime number.\n",
            "20 is not a prime number.\n",
            "21 is not a prime number.\n",
            "22 is not a prime number.\n",
            "23 is a prime number.\n",
            "24 is not a prime number.\n",
            "25 is not a prime number.\n",
            "26 is not a prime number.\n",
            "27 is not a prime number.\n",
            "28 is not a prime number.\n",
            "29 is a prime number.\n",
            "30 is not a prime number.\n",
            "31 is a prime number.\n",
            "32 is not a prime number.\n",
            "33 is not a prime number.\n",
            "34 is not a prime number.\n",
            "35 is not a prime number.\n",
            "36 is not a prime number.\n",
            "37 is a prime number.\n",
            "38 is not a prime number.\n",
            "39 is not a prime number.\n",
            "40 is not a prime number.\n",
            "41 is a prime number.\n",
            "42 is not a prime number.\n",
            "43 is a prime number.\n",
            "44 is not a prime number.\n",
            "45 is not a prime number.\n",
            "46 is not a prime number.\n",
            "47 is a prime number.\n",
            "48 is not a prime number.\n",
            "49 is not a prime number.\n",
            "50 is not a prime number.\n",
            "51 is not a prime number.\n",
            "52 is not a prime number.\n",
            "53 is a prime number.\n",
            "54 is not a prime number.\n",
            "55 is not a prime number.\n",
            "56 is not a prime number.\n",
            "57 is not a prime number.\n",
            "58 is not a prime number.\n",
            "59 is a prime number.\n",
            "60 is not a prime number.\n",
            "61 is a prime number.\n",
            "62 is not a prime number.\n",
            "63 is not a prime number.\n",
            "64 is not a prime number.\n",
            "65 is not a prime number.\n",
            "66 is not a prime number.\n",
            "67 is a prime number.\n",
            "68 is not a prime number.\n",
            "69 is not a prime number.\n",
            "70 is not a prime number.\n",
            "71 is a prime number.\n",
            "72 is not a prime number.\n",
            "73 is a prime number.\n",
            "74 is not a prime number.\n",
            "75 is not a prime number.\n",
            "76 is not a prime number.\n",
            "77 is not a prime number.\n",
            "78 is not a prime number.\n",
            "79 is a prime number.\n",
            "80 is not a prime number.\n",
            "81 is not a prime number.\n",
            "82 is not a prime number.\n",
            "83 is a prime number.\n",
            "84 is not a prime number.\n",
            "85 is not a prime number.\n",
            "86 is not a prime number.\n",
            "87 is not a prime number.\n",
            "88 is not a prime number.\n",
            "89 is a prime number.\n",
            "90 is not a prime number.\n",
            "91 is not a prime number.\n",
            "92 is not a prime number.\n",
            "93 is not a prime number.\n",
            "94 is not a prime number.\n",
            "95 is not a prime number.\n",
            "96 is not a prime number.\n",
            "97 is a prime number.\n",
            "98 is not a prime number.\n",
            "99 is not a prime number.\n",
            "100 is not a prime number.\n",
            "101 is a prime number.\n",
            "102 is not a prime number.\n",
            "103 is a prime number.\n",
            "104 is not a prime number.\n",
            "105 is not a prime number.\n",
            "106 is not a prime number.\n",
            "107 is a prime number.\n",
            "108 is not a prime number.\n",
            "109 is a prime number.\n",
            "110 is not a prime number.\n",
            "111 is not a prime number.\n",
            "112 is not a prime number.\n",
            "113 is a prime number.\n",
            "114 is not a prime number.\n",
            "115 is not a prime number.\n",
            "116 is not a prime number.\n",
            "117 is not a prime number.\n",
            "118 is not a prime number.\n",
            "119 is not a prime number.\n",
            "120 is not a prime number.\n",
            "121 is not a prime number.\n",
            "122 is not a prime number.\n",
            "123 is not a prime number.\n",
            "124 is not a prime number.\n",
            "125 is not a prime number.\n",
            "126 is not a prime number.\n",
            "127 is a prime number.\n",
            "128 is not a prime number.\n",
            "129 is not a prime number.\n",
            "130 is not a prime number.\n",
            "131 is a prime number.\n",
            "132 is not a prime number.\n",
            "133 is not a prime number.\n",
            "134 is not a prime number.\n",
            "135 is not a prime number.\n",
            "136 is not a prime number.\n",
            "137 is a prime number.\n",
            "138 is not a prime number.\n",
            "139 is a prime number.\n",
            "140 is not a prime number.\n",
            "141 is not a prime number.\n",
            "142 is not a prime number.\n",
            "143 is not a prime number.\n",
            "144 is not a prime number.\n",
            "145 is not a prime number.\n",
            "146 is not a prime number.\n",
            "147 is not a prime number.\n",
            "148 is not a prime number.\n",
            "149 is a prime number.\n",
            "150 is not a prime number.\n",
            "151 is a prime number.\n",
            "152 is not a prime number.\n",
            "153 is not a prime number.\n",
            "154 is not a prime number.\n",
            "155 is not a prime number.\n",
            "156 is not a prime number.\n",
            "157 is a prime number.\n",
            "158 is not a prime number.\n",
            "159 is not a prime number.\n",
            "160 is not a prime number.\n",
            "161 is not a prime number.\n",
            "162 is not a prime number.\n",
            "163 is a prime number.\n",
            "164 is not a prime number.\n",
            "165 is not a prime number.\n",
            "166 is not a prime number.\n",
            "167 is a prime number.\n",
            "168 is not a prime number.\n",
            "169 is not a prime number.\n",
            "170 is not a prime number.\n",
            "171 is not a prime number.\n",
            "172 is not a prime number.\n",
            "173 is a prime number.\n",
            "174 is not a prime number.\n",
            "175 is not a prime number.\n",
            "176 is not a prime number.\n",
            "177 is not a prime number.\n",
            "178 is not a prime number.\n",
            "179 is a prime number.\n",
            "180 is not a prime number.\n",
            "181 is a prime number.\n",
            "182 is not a prime number.\n",
            "183 is not a prime number.\n",
            "184 is not a prime number.\n",
            "185 is not a prime number.\n",
            "186 is not a prime number.\n",
            "187 is not a prime number.\n",
            "188 is not a prime number.\n",
            "189 is not a prime number.\n",
            "190 is not a prime number.\n",
            "191 is a prime number.\n",
            "192 is not a prime number.\n",
            "193 is a prime number.\n",
            "194 is not a prime number.\n",
            "195 is not a prime number.\n",
            "196 is not a prime number.\n",
            "197 is a prime number.\n",
            "198 is not a prime number.\n",
            "199 is a prime number.\n",
            "200 is not a prime number.\n"
          ]
        }
      ]
    },
    {
      "cell_type": "code",
      "source": [
        "#Q5. Create an iterator class in Python that generates the Fibonacci sequence up to a specified number of terms?\n",
        "class FibonacciIterator:\n",
        "    def __init__(self, num_terms):\n",
        "        self.num_terms = num_terms  # Number of terms to generate\n",
        "        self.current = 0           # Current term index\n",
        "        self.a = 0                 # First Fibonacci number\n",
        "        self.b = 1                 # Second Fibonacci number\n",
        "\n",
        "    def __iter__(self):\n",
        "        return self\n",
        "\n",
        "    def __next__(self):\n",
        "        if self.current >= self.num_terms:\n",
        "            raise StopIteration   # Stop iteration after generating specified number of terms\n",
        "        if self.current == 0:\n",
        "            self.current += 1\n",
        "            return self.a         # Return the first Fibonacci number\n",
        "        elif self.current == 1:\n",
        "            self.current += 1\n",
        "            return self.b         # Return the second Fibonacci number\n",
        "        else:\n",
        "            self.current += 1\n",
        "            fib = self.a + self.b\n",
        "            self.a, self.b = self.b, fib\n",
        "            return fib\n",
        "\n",
        "# Example usage:\n",
        "num_terms = 10\n",
        "fib_iterator = FibonacciIterator(num_terms)\n",
        "\n",
        "print(\"Fibonacci sequence:\")\n",
        "for number in fib_iterator:\n",
        "    print(number)\n"
      ],
      "metadata": {
        "colab": {
          "base_uri": "https://localhost:8080/"
        },
        "id": "XC92WaSJxmIp",
        "outputId": "256c4664-2004-4130-f433-12e8b876773f"
      },
      "execution_count": 7,
      "outputs": [
        {
          "output_type": "stream",
          "name": "stdout",
          "text": [
            "Fibonacci sequence:\n",
            "0\n",
            "1\n",
            "1\n",
            "2\n",
            "3\n",
            "5\n",
            "8\n",
            "13\n",
            "21\n",
            "34\n"
          ]
        }
      ]
    },
    {
      "cell_type": "code",
      "source": [
        "#Q6. Write a generator function in Python that yields the powers of 2 up to a given exponent.\n",
        "def powers_of_two(max_exponent):\n",
        "    for exponent in range(max_exponent + 1):\n",
        "        yield 2 ** exponent\n",
        "\n",
        "# Example usage\n",
        "max_exponent = 5\n",
        "print(f\"Powers of 2 up to 2^{max_exponent}:\")\n",
        "for value in powers_of_two(max_exponent):\n",
        "    print"
      ],
      "metadata": {
        "colab": {
          "base_uri": "https://localhost:8080/"
        },
        "id": "rn_8s-b3x2oU",
        "outputId": "dd36e557-f901-438c-b1ea-29b44b4afc43"
      },
      "execution_count": 8,
      "outputs": [
        {
          "output_type": "stream",
          "name": "stdout",
          "text": [
            "Powers of 2 up to 2^5:\n"
          ]
        }
      ]
    },
    {
      "cell_type": "code",
      "source": [
        "#7. Implement a generator function that reads a file line by line and yields each line as a string.\n",
        "def read_file_line_by_line(file_path):\n",
        "    try:\n",
        "        with open(file_path, 'r') as file:\n",
        "            for line in file:\n",
        "                yield line.strip()  # Yield the line after stripping trailing whitespace\n",
        "    except FileNotFoundError:\n",
        "        print(\"Error: File not found. Please check the file path.\")\n",
        "    except Exception as e:\n",
        "        print(f\"Error: {e}\")\n",
        "\n",
        "# Example usage:\n",
        "file_path = \"example.txt\"  # Replace with the path to your file\n",
        "for line in read_file_line_by_line(file_path):\n",
        "    print(line)"
      ],
      "metadata": {
        "colab": {
          "base_uri": "https://localhost:8080/"
        },
        "id": "oViIFSqoyEWh",
        "outputId": "82f9526d-135e-4d34-fc5f-031539e5e61e"
      },
      "execution_count": 9,
      "outputs": [
        {
          "output_type": "stream",
          "name": "stdout",
          "text": [
            "Error: File not found. Please check the file path.\n"
          ]
        }
      ]
    },
    {
      "cell_type": "code",
      "source": [
        "#8. Use a lambda function in Python to sort a list of tuples based on the second element of each tuple.\n",
        "# List of tuples\n",
        "tuple_list = [(7, 9), (3, 4), (5, 1), (6, 2)]\n",
        "\n",
        "# Sort the list based on the second element of each tuple\n",
        "sorted_list = sorted(tuple_list, key=lambda x: x[1])\n",
        "\n",
        "print(\"List sorted by the second element:\")\n",
        "print(sorted_list)\n"
      ],
      "metadata": {
        "colab": {
          "base_uri": "https://localhost:8080/"
        },
        "id": "mTuSLIpByWDI",
        "outputId": "20850b10-6e5d-4e72-a208-3b1d1bf5f15f"
      },
      "execution_count": 11,
      "outputs": [
        {
          "output_type": "stream",
          "name": "stdout",
          "text": [
            "List sorted by the second element:\n",
            "[(5, 1), (6, 2), (3, 4), (7, 9)]\n"
          ]
        }
      ]
    },
    {
      "cell_type": "code",
      "source": [
        "#Q9. Write a Python program that uses `map()` to convert a list of temperatures from Celsius to Fahrenheit.\n",
        "# Function to convert Celsius to Fahrenheit\n",
        "def celsius_to_fahrenheit(celsius):\n",
        "    return (celsius * 9/5) + 32\n",
        "\n",
        "# List of temperatures in Celsius\n",
        "temperatures_celsius = [0, 20, 30, 40, 100]\n",
        "\n",
        "# Convert the temperatures to Fahrenheit using map()\n",
        "temperatures_fahrenheit = list(map(celsius_to_fahrenheit, temperatures_celsius))\n",
        "\n",
        "# Print the result\n",
        "print(\"Temperatures in Celsius:\", temperatures_celsius)\n",
        "print(\"Temperatures in Fahrenheit:\", temperatures_fahrenheit)"
      ],
      "metadata": {
        "colab": {
          "base_uri": "https://localhost:8080/"
        },
        "id": "siXE3MIHytXl",
        "outputId": "795ae1a8-c5db-4598-bf1e-77c5667e9e62"
      },
      "execution_count": 12,
      "outputs": [
        {
          "output_type": "stream",
          "name": "stdout",
          "text": [
            "Temperatures in Celsius: [0, 20, 30, 40, 100]\n",
            "Temperatures in Fahrenheit: [32.0, 68.0, 86.0, 104.0, 212.0]\n"
          ]
        }
      ]
    },
    {
      "cell_type": "code",
      "source": [
        "#Q10. Create a Python program that uses `filter()` to remove all the vowels from a given string.\n",
        "def remove_vowels(input_string):\n",
        "    vowels = \"aeiouAEIOU\"\n",
        "    # Use filter to exclude vowels\n",
        "    return ''.join(filter(lambda char: char not in vowels, input_string))\n",
        "\n",
        "# Example usage\n",
        "text = \"Hello, World!\"\n",
        "result = remove_vowels(text)\n",
        "\n",
        "print(\"Original string:\", text)\n",
        "print(\"String without vowels:\", result)"
      ],
      "metadata": {
        "colab": {
          "base_uri": "https://localhost:8080/"
        },
        "id": "s9Lll3zjzBzk",
        "outputId": "df383e02-8093-4e2b-9197-81f747dbc541"
      },
      "execution_count": 13,
      "outputs": [
        {
          "output_type": "stream",
          "name": "stdout",
          "text": [
            "Original string: Hello, World!\n",
            "String without vowels: Hll, Wrld!\n"
          ]
        }
      ]
    },
    {
      "cell_type": "code",
      "source": [
        "#Q11. Imagine an accounting routine used in a book shop. It works on a list with sublists, which look like this:\n",
        "#order Number   Book title Author                       Quantity Price per item\n",
        "#34587          lerning python,Mark Lutz                   40.95\n",
        "#98762          Programing python,Mark Lutz                56.80\n",
        "#77226          Head First Python,Paul Barry               32.95\n",
        "#88112          Einfuhrung in python3,bernd klein          24.99\n",
        "#Write a Python program, which returns a list with 2-tuples. Each tuple consists of the order number and the\n",
        "# product of the price per item and the quantity. The product should be increased by 10,- € if the value of the\n",
        "# order is smaller than 100,00 €.\n",
        "\n",
        "# Write a Python program using lambda and map.\n",
        "# List of orders with order number, book title, author, quantity, and price per item\n",
        "\n",
        "orders = [\n",
        "    [34587, \"Learning Python\", \"Mark Lutz\", 4, 40.95],\n",
        "    [98762, \"Programming Python\", \"Mark Lutz\", 5, 56.80],\n",
        "    [77226, \"Head First Python\", \"Paul Barry\", 3, 32.95],\n",
        "    [88112, \"Einführung in Python3\", \"Bernd Klein\", 2, 24.99]\n",
        "]\n",
        "\n",
        "# Use lambda and map to compute the desired 2-tuple list\n",
        "result = list(map(\n",
        "    lambda x: (x[0], round(x[3] * x[4] + (10 if x[3] * x[4] < 100 else 0), 2)),\n",
        "    orders\n",
        "))\n",
        "\n",
        "# Print the result\n",
        "print(\"List of order numbers and their final product values:\")\n",
        "print(result)"
      ],
      "metadata": {
        "colab": {
          "base_uri": "https://localhost:8080/"
        },
        "id": "omwjy_D6zNer",
        "outputId": "f6466856-a2a9-4722-96eb-2564b99f06b8"
      },
      "execution_count": 14,
      "outputs": [
        {
          "output_type": "stream",
          "name": "stdout",
          "text": [
            "List of order numbers and their final product values:\n",
            "[(34587, 163.8), (98762, 284.0), (77226, 108.85), (88112, 59.98)]\n"
          ]
        }
      ]
    }
  ]
}